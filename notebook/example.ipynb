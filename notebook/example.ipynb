{
 "cells": [
  {
   "cell_type": "code",
   "execution_count": 1,
   "metadata": {},
   "outputs": [],
   "source": [
    "from collections import namedtuple\n",
    "import os\n",
    "from housing.constant import *"
   ]
  },
  {
   "cell_type": "markdown",
   "metadata": {},
   "source": [
    "1. Download url = dataset_download_url\n",
    "2. Download Folder(Compressed Folder) = tgz_download_dir\n",
    "3. Extract Folder(Extracted Folder) = raw_data_dir\n",
    "4. Train Dataset Folder = ingested_train_dir\n",
    "5. Test Dataset Folder = ingested_test_dir"
   ]
  },
  {
   "cell_type": "code",
   "execution_count": 2,
   "metadata": {},
   "outputs": [],
   "source": [
    "DataIngestionConfig = namedtuple(\"DataIngestionConfig\" , [\"dataset_download_url\",\"tgz_download_dir\" , \"raw_data_dir\" ,\"ingested_train_dir\",\"ingested_test_dir\"])"
   ]
  },
  {
   "cell_type": "code",
   "execution_count": 3,
   "metadata": {},
   "outputs": [],
   "source": [
    "data_ingestion_config = DataIngestionConfig(dataset_download_url=\"xyz.com\",tgz_download_dir=\"ysssa\",raw_data_dir=\"yuidd\",ingested_train_dir=\"abcd\",ingested_test_dir=\"xyzghs\")"
   ]
  },
  {
   "cell_type": "code",
   "execution_count": 4,
   "metadata": {},
   "outputs": [
    {
     "data": {
      "text/plain": [
       "DataIngestionConfig(dataset_download_url='xyz.com', tgz_download_dir='ysssa', raw_data_dir='yuidd', ingested_train_dir='abcd', ingested_test_dir='xyzghs')"
      ]
     },
     "execution_count": 4,
     "metadata": {},
     "output_type": "execute_result"
    }
   ],
   "source": [
    "data_ingestion_config"
   ]
  },
  {
   "cell_type": "code",
   "execution_count": 5,
   "metadata": {},
   "outputs": [],
   "source": [
    "DataValidationConfig = namedtuple(\"DataValidationConfig\",[\"schema_file_path\"])"
   ]
  },
  {
   "cell_type": "code",
   "execution_count": 6,
   "metadata": {},
   "outputs": [
    {
     "data": {
      "text/plain": [
       "__main__.DataValidationConfig"
      ]
     },
     "execution_count": 6,
     "metadata": {},
     "output_type": "execute_result"
    }
   ],
   "source": [
    "DataValidationConfig"
   ]
  },
  {
   "cell_type": "code",
   "execution_count": 7,
   "metadata": {},
   "outputs": [],
   "source": [
    "import yaml"
   ]
  },
  {
   "cell_type": "code",
   "execution_count": 8,
   "metadata": {},
   "outputs": [
    {
     "data": {
      "text/plain": [
       "'e:\\\\Study Material\\\\Data Science\\\\INeuron\\\\Full Stack Data Science\\\\Projects\\\\Machine Learning Project (End to End )\\\\INeuron_ML_Project_1\\\\ML_Project\\\\notebook'"
      ]
     },
     "execution_count": 8,
     "metadata": {},
     "output_type": "execute_result"
    }
   ],
   "source": [
    "os.getcwd()"
   ]
  },
  {
   "cell_type": "code",
   "execution_count": 9,
   "metadata": {},
   "outputs": [],
   "source": [
    "os.chdir(\"e:\\\\Study Material\\\\Data Science\\\\INeuron\\\\Full Stack Data Science\\\\Projects\\\\Machine Learning Project (End to End )\\\\INeuron_ML_Project_1\\\\ML_Project\")"
   ]
  },
  {
   "cell_type": "code",
   "execution_count": 10,
   "metadata": {},
   "outputs": [],
   "source": [
    "file_path = os.getcwd()"
   ]
  },
  {
   "cell_type": "code",
   "execution_count": 11,
   "metadata": {},
   "outputs": [
    {
     "data": {
      "text/plain": [
       "['config.yaml']"
      ]
     },
     "execution_count": 11,
     "metadata": {},
     "output_type": "execute_result"
    }
   ],
   "source": [
    "os.listdir(\"config\")"
   ]
  },
  {
   "cell_type": "code",
   "execution_count": 12,
   "metadata": {},
   "outputs": [],
   "source": [
    "config_file_path = os.path.join(file_path , \"config\",\"config.yaml\")"
   ]
  },
  {
   "cell_type": "code",
   "execution_count": 13,
   "metadata": {},
   "outputs": [
    {
     "data": {
      "text/plain": [
       "'e:\\\\Study Material\\\\Data Science\\\\INeuron\\\\Full Stack Data Science\\\\Projects\\\\Machine Learning Project (End to End )\\\\INeuron_ML_Project_1\\\\ML_Project\\\\config\\\\config.yaml'"
      ]
     },
     "execution_count": 13,
     "metadata": {},
     "output_type": "execute_result"
    }
   ],
   "source": [
    "config_file_path"
   ]
  },
  {
   "cell_type": "code",
   "execution_count": 14,
   "metadata": {},
   "outputs": [
    {
     "data": {
      "text/plain": [
       "True"
      ]
     },
     "execution_count": 14,
     "metadata": {},
     "output_type": "execute_result"
    }
   ],
   "source": [
    "os.path.exists(config_file_path)"
   ]
  },
  {
   "cell_type": "code",
   "execution_count": 15,
   "metadata": {},
   "outputs": [],
   "source": [
    "with open (config_file_path , 'rb') as yaml_file :\n",
    "    config_file  = yaml.safe_load(yaml_file)"
   ]
  },
  {
   "cell_type": "code",
   "execution_count": 16,
   "metadata": {},
   "outputs": [
    {
     "data": {
      "text/plain": [
       "{'schema_dir': 'config',\n",
       " 'schema_file_name': 'schema.yaml',\n",
       " 'report_file_name': 'report.json',\n",
       " 'report_page_file_name': 'report.html'}"
      ]
     },
     "execution_count": 16,
     "metadata": {},
     "output_type": "execute_result"
    }
   ],
   "source": [
    "config_file['data_validation_config']"
   ]
  },
  {
   "cell_type": "code",
   "execution_count": 17,
   "metadata": {},
   "outputs": [],
   "source": [
    "def read_yaml_file (file_path : str) -> dict :\n",
    "    \"\"\"\n",
    "    This function read the yaml file and returns the output as dictionary\n",
    "    \n",
    "    \"\"\"\n",
    "\n",
    "    try :\n",
    "        with open ( file_path , 'rb') as yaml_file :\n",
    "            return yaml.safe_load(yaml_file)\n",
    "    except Exception as e :\n",
    "        raise e "
   ]
  },
  {
   "cell_type": "code",
   "execution_count": 18,
   "metadata": {},
   "outputs": [],
   "source": [
    "config = read_yaml_file(config_file_path)"
   ]
  },
  {
   "cell_type": "code",
   "execution_count": 19,
   "metadata": {},
   "outputs": [
    {
     "data": {
      "text/plain": [
       "{'pipeline_name': 'housing', 'artifact_dir': 'artifact'}"
      ]
     },
     "execution_count": 19,
     "metadata": {},
     "output_type": "execute_result"
    }
   ],
   "source": [
    "config[TRAINING_PIPELINE_CONFIG_KEY]"
   ]
  },
  {
   "cell_type": "code",
   "execution_count": 20,
   "metadata": {},
   "outputs": [],
   "source": [
    "training_pipeline_config = config[TRAINING_PIPELINE_CONFIG_KEY]\n",
    "artifact_dir = os.path.join(ROOT_DIR, \n",
    "training_pipeline_config[TRAINING_PIPELINE_NAME_KEY], \n",
    "training_pipeline_config[TRAINING_PIPELINE_ARTIFACT_DIR_KEY])"
   ]
  },
  {
   "cell_type": "code",
   "execution_count": 21,
   "metadata": {},
   "outputs": [
    {
     "data": {
      "text/plain": [
       "'e:\\\\Study Material\\\\Data Science\\\\INeuron\\\\Full Stack Data Science\\\\Projects\\\\Machine Learning Project (End to End )\\\\INeuron_ML_Project_1\\\\ML_Project\\\\notebook\\\\housing\\\\artifact'"
      ]
     },
     "execution_count": 21,
     "metadata": {},
     "output_type": "execute_result"
    }
   ],
   "source": [
    "artifact_dir"
   ]
  },
  {
   "cell_type": "code",
   "execution_count": 22,
   "metadata": {},
   "outputs": [
    {
     "data": {
      "text/plain": [
       "'training_pipeline_config'"
      ]
     },
     "execution_count": 22,
     "metadata": {},
     "output_type": "execute_result"
    }
   ],
   "source": [
    "TRAINING_PIPELINE_CONFIG_KEY"
   ]
  },
  {
   "cell_type": "code",
   "execution_count": 23,
   "metadata": {},
   "outputs": [],
   "source": [
    "from housing.config.configuration import Configuration\n",
    "from housing.constant import *"
   ]
  },
  {
   "cell_type": "code",
   "execution_count": 24,
   "metadata": {},
   "outputs": [
    {
     "data": {
      "text/plain": [
       "'e:\\\\Study Material\\\\Data Science\\\\INeuron\\\\Full Stack Data Science\\\\Projects\\\\Machine Learning Project (End to End )\\\\INeuron_ML_Project_1\\\\ML_Project'"
      ]
     },
     "execution_count": 24,
     "metadata": {},
     "output_type": "execute_result"
    }
   ],
   "source": [
    "os.getcwd()"
   ]
  },
  {
   "cell_type": "code",
   "execution_count": 28,
   "metadata": {},
   "outputs": [
    {
     "ename": "AttributeError",
     "evalue": "type object 'HousingException' has no attribute 'get_detailed_error_message'",
     "output_type": "error",
     "traceback": [
      "\u001b[1;31m---------------------------------------------------------------------------\u001b[0m",
      "\u001b[1;31mAttributeError\u001b[0m                            Traceback (most recent call last)",
      "File \u001b[1;32me:\\study material\\data science\\ineuron\\full stack data science\\projects\\machine learning project (end to end )\\ineuron_ml_project_1\\ml_project\\housing\\config\\configuration.py:47\u001b[0m, in \u001b[0;36mConfiguration.get_training_pipeline_config\u001b[1;34m(self)\u001b[0m\n\u001b[0;32m     46\u001b[0m \u001b[39mtry\u001b[39;00m :\n\u001b[1;32m---> 47\u001b[0m     training_pipeline_config \u001b[39m=\u001b[39m \u001b[39mself\u001b[39;49m\u001b[39m.\u001b[39;49mconfig_info[TRAINING_PIPELINE_CONFIG_KEY]\n\u001b[0;32m     48\u001b[0m     artifact_dir \u001b[39m=\u001b[39m os\u001b[39m.\u001b[39mpath\u001b[39m.\u001b[39mjoin(ROOT_DIR , \n\u001b[0;32m     49\u001b[0m     training_pipeline_config[TRAINING_PIPELINE_NAME_KEY] , \n\u001b[0;32m     50\u001b[0m     training_pipeline_config[TRAINING_PIPELINE_ARTIFACT_DIR_KEY])\n",
      "\u001b[1;31mAttributeError\u001b[0m: 'Configuration' object has no attribute 'config_info'",
      "\nDuring handling of the above exception, another exception occurred:\n",
      "\u001b[1;31mAttributeError\u001b[0m                            Traceback (most recent call last)",
      "File \u001b[1;32me:\\study material\\data science\\ineuron\\full stack data science\\projects\\machine learning project (end to end )\\ineuron_ml_project_1\\ml_project\\housing\\config\\configuration.py:18\u001b[0m, in \u001b[0;36mConfiguration.__init__\u001b[1;34m(self, config_file_path, current_time_stamp)\u001b[0m\n\u001b[0;32m     17\u001b[0m \u001b[39mself\u001b[39m\u001b[39m.\u001b[39mconfig_file_path \u001b[39m=\u001b[39m read_yaml_file(file_path\u001b[39m=\u001b[39mconfig_file_path)\n\u001b[1;32m---> 18\u001b[0m \u001b[39mself\u001b[39m\u001b[39m.\u001b[39mtraining_pipline_config \u001b[39m=\u001b[39m \u001b[39mself\u001b[39;49m\u001b[39m.\u001b[39;49mget_training_pipeline_config()\n\u001b[0;32m     19\u001b[0m \u001b[39mself\u001b[39m\u001b[39m.\u001b[39mtime_stamp \u001b[39m=\u001b[39m current_time_stamp\n",
      "File \u001b[1;32me:\\study material\\data science\\ineuron\\full stack data science\\projects\\machine learning project (end to end )\\ineuron_ml_project_1\\ml_project\\housing\\config\\configuration.py:58\u001b[0m, in \u001b[0;36mConfiguration.get_training_pipeline_config\u001b[1;34m(self)\u001b[0m\n\u001b[0;32m     57\u001b[0m \u001b[39mexcept\u001b[39;00m \u001b[39mException\u001b[39;00m \u001b[39mas\u001b[39;00m e :\n\u001b[1;32m---> 58\u001b[0m     \u001b[39mraise\u001b[39;00m HousingException (e ,sys) \u001b[39mfrom\u001b[39;00m \u001b[39me\u001b[39;00m\n",
      "File \u001b[1;32me:\\study material\\data science\\ineuron\\full stack data science\\projects\\machine learning project (end to end )\\ineuron_ml_project_1\\ml_project\\housing\\exception\\__init__.py:7\u001b[0m, in \u001b[0;36mHousingException.__init__\u001b[1;34m(self, error_message, error_detail)\u001b[0m\n\u001b[0;32m      6\u001b[0m \u001b[39msuper\u001b[39m()\u001b[39m.\u001b[39m\u001b[39m__init__\u001b[39m(error_message)\n\u001b[1;32m----> 7\u001b[0m \u001b[39mself\u001b[39m\u001b[39m.\u001b[39merror_message \u001b[39m=\u001b[39m HousingException\u001b[39m.\u001b[39;49mget_detailed_error_message(error_message \u001b[39m=\u001b[39m error_message,\n\u001b[0;32m      8\u001b[0m                                                                  error_detail \u001b[39m=\u001b[39m error_detail)\n",
      "\u001b[1;31mAttributeError\u001b[0m: type object 'HousingException' has no attribute 'get_detailed_error_message'",
      "\nDuring handling of the above exception, another exception occurred:\n",
      "\u001b[1;31mAttributeError\u001b[0m                            Traceback (most recent call last)",
      "\u001b[1;32me:\\Study Material\\Data Science\\INeuron\\Full Stack Data Science\\Projects\\Machine Learning Project (End to End )\\INeuron_ML_Project_1\\ML_Project\\notebook\\example.ipynb Cell 26\u001b[0m in \u001b[0;36m<cell line: 1>\u001b[1;34m()\u001b[0m\n\u001b[1;32m----> <a href='vscode-notebook-cell:/e%3A/Study%20Material/Data%20Science/INeuron/Full%20Stack%20Data%20Science/Projects/Machine%20Learning%20Project%20%28End%20to%20End%20%29/INeuron_ML_Project_1/ML_Project/notebook/example.ipynb#ch0000033?line=0'>1</a>\u001b[0m config \u001b[39m=\u001b[39m Configuration(config_file_path\u001b[39m=\u001b[39;49m\u001b[39m\"\u001b[39;49m\u001b[39me:\u001b[39;49m\u001b[39m\\\\\u001b[39;49;00m\u001b[39mStudy Material\u001b[39;49m\u001b[39m\\\\\u001b[39;49;00m\u001b[39mData Science\u001b[39;49m\u001b[39m\\\\\u001b[39;49;00m\u001b[39mINeuron\u001b[39;49m\u001b[39m\\\\\u001b[39;49;00m\u001b[39mFull Stack Data Science\u001b[39;49m\u001b[39m\\\\\u001b[39;49;00m\u001b[39mProjects\u001b[39;49m\u001b[39m\\\\\u001b[39;49;00m\u001b[39mMachine Learning Project (End to End )\u001b[39;49m\u001b[39m\\\\\u001b[39;49;00m\u001b[39mINeuron_ML_Project_1\u001b[39;49m\u001b[39m\\\\\u001b[39;49;00m\u001b[39mML_Project\u001b[39;49m\u001b[39m\\\\\u001b[39;49;00m\u001b[39mconfig\u001b[39;49m\u001b[39m\\\\\u001b[39;49;00m\u001b[39mconfig.yaml\u001b[39;49m\u001b[39m\"\u001b[39;49m)\n",
      "File \u001b[1;32me:\\study material\\data science\\ineuron\\full stack data science\\projects\\machine learning project (end to end )\\ineuron_ml_project_1\\ml_project\\housing\\config\\configuration.py:21\u001b[0m, in \u001b[0;36mConfiguration.__init__\u001b[1;34m(self, config_file_path, current_time_stamp)\u001b[0m\n\u001b[0;32m     19\u001b[0m     \u001b[39mself\u001b[39m\u001b[39m.\u001b[39mtime_stamp \u001b[39m=\u001b[39m current_time_stamp\n\u001b[0;32m     20\u001b[0m \u001b[39mexcept\u001b[39;00m \u001b[39mException\u001b[39;00m \u001b[39mas\u001b[39;00m e :\n\u001b[1;32m---> 21\u001b[0m     \u001b[39mraise\u001b[39;00m HousingException (e , sys) \u001b[39mfrom\u001b[39;00m \u001b[39me\u001b[39;00m\n",
      "File \u001b[1;32me:\\study material\\data science\\ineuron\\full stack data science\\projects\\machine learning project (end to end )\\ineuron_ml_project_1\\ml_project\\housing\\exception\\__init__.py:7\u001b[0m, in \u001b[0;36mHousingException.__init__\u001b[1;34m(self, error_message, error_detail)\u001b[0m\n\u001b[0;32m      5\u001b[0m \u001b[39mdef\u001b[39;00m \u001b[39m__init__\u001b[39m(\u001b[39mself\u001b[39m, error_message: \u001b[39mException\u001b[39;00m, error_detail : sys):\n\u001b[0;32m      6\u001b[0m     \u001b[39msuper\u001b[39m()\u001b[39m.\u001b[39m\u001b[39m__init__\u001b[39m(error_message)\n\u001b[1;32m----> 7\u001b[0m     \u001b[39mself\u001b[39m\u001b[39m.\u001b[39merror_message \u001b[39m=\u001b[39m HousingException\u001b[39m.\u001b[39;49mget_detailed_error_message(error_message \u001b[39m=\u001b[39m error_message,\n\u001b[0;32m      8\u001b[0m                                                                      error_detail \u001b[39m=\u001b[39m error_detail)\n",
      "\u001b[1;31mAttributeError\u001b[0m: type object 'HousingException' has no attribute 'get_detailed_error_message'"
     ]
    }
   ],
   "source": [
    "config = Configuration(config_file_path=\"e:\\\\Study Material\\\\Data Science\\\\INeuron\\\\Full Stack Data Science\\\\Projects\\\\Machine Learning Project (End to End )\\\\INeuron_ML_Project_1\\\\ML_Project\\\\config\\\\config.yaml\")"
   ]
  },
  {
   "cell_type": "code",
   "execution_count": null,
   "metadata": {},
   "outputs": [],
   "source": []
  },
  {
   "cell_type": "code",
   "execution_count": null,
   "metadata": {},
   "outputs": [],
   "source": []
  },
  {
   "cell_type": "code",
   "execution_count": null,
   "metadata": {},
   "outputs": [],
   "source": []
  },
  {
   "cell_type": "code",
   "execution_count": null,
   "metadata": {},
   "outputs": [],
   "source": []
  }
 ],
 "metadata": {
  "kernelspec": {
   "display_name": "Python 3.9.12 ('base')",
   "language": "python",
   "name": "python3"
  },
  "language_info": {
   "codemirror_mode": {
    "name": "ipython",
    "version": 3
   },
   "file_extension": ".py",
   "mimetype": "text/x-python",
   "name": "python",
   "nbconvert_exporter": "python",
   "pygments_lexer": "ipython3",
   "version": "3.9.12"
  },
  "orig_nbformat": 4,
  "vscode": {
   "interpreter": {
    "hash": "ad2bdc8ecc057115af97d19610ffacc2b4e99fae6737bb82f5d7fb13d2f2c186"
   }
  }
 },
 "nbformat": 4,
 "nbformat_minor": 2
}
